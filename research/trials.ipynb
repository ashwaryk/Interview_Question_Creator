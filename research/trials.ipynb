{
 "cells": [
  {
   "cell_type": "code",
   "execution_count": 2,
   "metadata": {},
   "outputs": [
    {
     "name": "stdout",
     "output_type": "stream",
     "text": [
      "OK\n"
     ]
    }
   ],
   "source": [
    "print(\"OK\")"
   ]
  },
  {
   "cell_type": "code",
   "execution_count": 3,
   "metadata": {},
   "outputs": [],
   "source": [
    "import os\n",
    "from dotenv import load_dotenv"
   ]
  },
  {
   "cell_type": "code",
   "execution_count": 5,
   "metadata": {},
   "outputs": [
    {
     "data": {
      "text/plain": [
       "True"
      ]
     },
     "execution_count": 5,
     "metadata": {},
     "output_type": "execute_result"
    }
   ],
   "source": [
    "load_dotenv()"
   ]
  },
  {
   "cell_type": "code",
   "execution_count": 6,
   "metadata": {},
   "outputs": [],
   "source": [
    "OPENAI_API_KEY = os.getenv('OPENAI_API_KEY')"
   ]
  },
  {
   "cell_type": "code",
   "execution_count": 8,
   "metadata": {},
   "outputs": [],
   "source": [
    "os.environ['OPENAI_API_KEY'] = OPENAI_API_KEY # set openai key to environment variable"
   ]
  },
  {
   "cell_type": "code",
   "execution_count": 9,
   "metadata": {},
   "outputs": [],
   "source": [
    "from langchain.document_loaders import PyPDFLoader"
   ]
  },
  {
   "cell_type": "code",
   "execution_count": 12,
   "metadata": {},
   "outputs": [],
   "source": [
    "file_path = \"../data/stats.pdf\"\n",
    "loader = PyPDFLoader(file_path)\n",
    "data = loader.load()"
   ]
  },
  {
   "cell_type": "code",
   "execution_count": 13,
   "metadata": {},
   "outputs": [
    {
     "data": {
      "text/plain": [
       "[Document(page_content='Importance\\nand\\nthe\\nuse\\nof\\ncorrelation\\nin\\nStatistics\\nIntroduction\\nCorrelation\\nis\\na\\nstatistical\\nmeasure\\nthat\\nexpresses\\nthe\\nextent\\nto\\nwhich\\ntwo\\nvariables\\nare\\nlinearly\\nrelated.\\nIt\\nis\\na\\ncommon\\ntool\\nfor\\ndescribing\\nsimple\\nrelationships\\nwithout\\nmaking\\na\\nstatement\\nabout\\ncause\\nand\\neffect.\\nCorrelation\\ncoefficients\\nrange\\nfrom\\n-1\\nto\\n1,\\nwith\\na\\nvalue\\nof\\n0\\nindicating\\nno\\nlinear\\nrelationship\\nbetween\\nthe\\ntwo\\nvariables,\\na\\nvalue\\nof\\n1\\nindicating\\na\\nperfect\\npositive\\nlinear\\nrelationship,\\nand\\na\\nvalue\\nof\\n-1\\nindicating\\na\\nperfect\\nnegative\\nlinear\\nrelationship.\\nCorrelation\\nis\\nimportant\\nin\\nstatistics\\nbecause\\nit\\ncan\\nbe\\nused\\nto\\n1.\\nIdentify\\nrelationships\\nbetween\\nvariables:\\nCorrelation\\ncan\\nbe\\nused\\nto\\nidentify\\nwhether\\nthere\\nis\\na\\nrelationship\\nbetween\\ntwo\\nvariables,\\nand\\nif\\nso,\\nwhether\\nthe\\nrelationship\\nis\\npositive\\nor\\nnegative.\\nThis\\ninformation\\ncan\\nbe\\nuseful\\nfor\\nunderstanding\\nthe\\nrelationships\\nbetween\\ndifferent\\nfactors\\nin\\na\\ncomplex\\nsystem.\\n2.\\nMake\\npredictions:\\nIf\\nthere\\nis\\na\\nstrong\\ncorrelation\\nbetween\\ntwo\\nvariables,\\nit\\nis\\npossible\\nto\\nuse\\nthe\\nvalue\\nof\\none\\nvariable\\nto\\npredict\\nthe\\nvalue\\nof\\nthe\\nother\\nvariable.\\nThis\\ncan\\nbe\\nuseful\\nfor\\nmaking\\npredictions\\nin\\na\\nvariety\\nof\\nfields,\\nsuch\\nas\\nbusiness,\\nfinance,\\nand\\nmedicine.\\n3.\\nDevelop\\ncausal\\nmodels:\\nCorrelation\\ncan\\nbe\\nused\\nas\\na\\nstarting\\npoint\\nfor\\ndeveloping\\ncausal\\nmodels,\\nwhich\\nare\\nmodels\\nthat\\ndescribe\\nhow\\nchanges\\nin\\none\\nvariable\\ncause\\nchanges\\nin\\nother\\nvariables.\\nCausal\\nmodels\\ncan\\nbe\\nused\\nto\\nmake\\nmore\\naccurate\\npredictions\\nand\\nto\\ndevelop\\ninterventions\\nto\\nchange\\nthe\\nvalues\\nof\\nspecific\\nvariables.', metadata={'source': '../data/stats.pdf', 'page': 0}),\n",
       " Document(page_content='Correlation\\nis\\nused\\nin\\na\\nwide\\nvariety\\nof\\nfields\\nincluding\\n1.\\nBusiness:\\nCorrelation\\ncan\\nbe\\nused\\nto\\nidentify\\nrelationships\\nbetween\\ndifferent\\nbusiness\\nvariables,\\nsuch\\nas\\nsales,\\nadvertising\\nspending,\\nand\\ncustomer\\nsatisfaction.\\nThis\\ninformation\\ncan\\nbe\\nused\\nto\\nmake\\nbetter\\nbusiness\\ndecisions,\\nsuch\\nas\\nhow\\nto\\nallocate\\nmarketing\\nresources.\\n2.\\nFinance:\\nCorrelation\\ncan\\nbe\\nused\\nto\\nidentify\\nrelationships\\nbetween\\ndifferent\\nfinancial\\nassets,\\nsuch\\nas\\nstocks,\\nbonds,\\nand\\ncommodities.\\nThis\\ninformation\\ncan\\nbe\\nused\\nto\\nbuild\\ndiversified\\nportfolios\\nthat\\nreduce\\nrisk.\\n3.\\nMedicine:\\nCorrelation\\ncan\\nbe\\nused\\nto\\nidentify\\nrelationships\\nbetween\\ndifferent\\nmedical\\nvariables,\\nsuch\\nas\\nrisk\\nfactors\\nfor\\ndiseases\\nand\\nthe\\neffectiveness\\nof\\ntreatments.\\nThis\\ninformation\\ncan\\nbe\\nused\\nto\\nimprove\\nthe\\nprevention,\\ndiagnosis,\\nand\\ntreatment\\nof\\ndiseases.\\n4.\\nPsychology:\\nCorrelation\\ncan\\nbe\\nused\\nto\\nidentify\\nrelationships\\nbetween\\ndifferent\\npsychological\\nvariables,\\nsuch\\nas\\npersonality\\ntraits,\\ncognitive\\nabilities,\\nand\\nmental\\ndisorders.\\nThis\\ninformation\\ncan\\nbe\\nused\\nto\\ndevelop\\nbetter\\npsychological\\nassessments\\nand\\ntreatments.\\nHow\\ncorrelation\\nis\\nused\\nin\\nthe\\nreal\\nworld\\n1.\\nA\\nmarketing\\nmanager\\nmight\\nuse\\ncorrelation\\nto\\nidentify\\nthe\\nrelationship\\nbetween\\nadvertising\\nspending\\nand\\nsales.\\nThis\\ninformation\\ncould\\nbe\\nused\\nto\\ndecide\\nhow\\nmuch\\nmoney\\nto\\nallocate\\nto\\nadvertising.\\n2.\\nA\\nfinancial\\nanalyst\\nmight\\nuse\\ncorrelation\\nto\\nidentify\\nthe\\nrelationship\\nbetween\\nthe\\nreturns\\nof\\ndifferent\\nstocks.\\nThis\\ninformation\\ncould\\nbe', metadata={'source': '../data/stats.pdf', 'page': 1}),\n",
       " Document(page_content='used\\nto\\nbuild\\na\\nportfolio\\nof\\nstocks\\nthat\\nis\\ndiversified\\nand\\nhas\\na\\nlower\\noverall\\nrisk.\\n3.\\nA\\nmedical\\nresearcher\\nmight\\nuse\\ncorrelation\\nto\\nidentify\\nthe\\nrelationship\\nbetween\\nsmoking\\nand\\nlung\\ncancer.\\nThis\\ninformation\\ncould\\nbe\\nused\\nto\\ndevelop\\npublic\\nhealth\\ncampaigns\\nto\\ndiscourage\\nsmoking.\\n4.\\nA\\npsychologist\\nmight\\nuse\\ncorrelation\\nto\\nidentify\\nthe\\nrelationship\\nbetween\\nanxiety\\nand\\ndepression.\\nThis\\ninformation\\ncould\\nbe\\nused\\nto\\ndevelop\\nmore\\neffective\\ntreatments\\nfor\\nanxiety\\nand\\ndepression.\\nConclusion\\nIt\\nis\\nimportant\\nto\\nnote\\nthat\\ncorrelation\\ndoes\\nnot\\nequal\\ncausation.\\nJust\\nbecause\\ntwo\\nvariables\\nare\\ncorrelated\\ndoes\\nnot\\nmean\\nthat\\none\\nvariable\\ncauses\\nthe\\nother .\\nFor\\nexample,\\nthere\\nis\\na\\nstrong\\ncorrelation\\nbetween\\nice\\ncream\\nsales\\nand\\nshark\\nattacks.\\nHowever ,\\nthis\\ndoes\\nnot\\nmean\\nthat\\neating\\nice\\ncream\\ncauses\\nshark\\nattacks.\\nInstead,\\nthere\\nis\\nlikely\\na\\nthird\\nvariable,\\nsuch\\nas\\nhot\\nweather ,\\nthat\\ncauses\\nboth\\nice\\ncream\\nsales\\nand\\nshark\\nattacks\\nto\\nincrease.\\nOverall,\\ncorrelation\\nis\\na\\npowerful\\nstatistical\\ntool\\nthat\\ncan\\nbe\\nused\\nto\\nidentify\\nrelationships\\nbetween\\nvariables,\\nmake\\npredictions,\\nand\\ndevelop\\ncausal\\nmodels.\\nIt\\nis\\nused\\nin\\na\\nwide\\nvariety\\nof\\nfields\\nto\\nmake\\nbetter\\ndecisions\\nand\\nimprove\\noutcomes.', metadata={'source': '../data/stats.pdf', 'page': 2})]"
      ]
     },
     "execution_count": 13,
     "metadata": {},
     "output_type": "execute_result"
    }
   ],
   "source": [
    "data"
   ]
  },
  {
   "cell_type": "code",
   "execution_count": 14,
   "metadata": {},
   "outputs": [],
   "source": [
    "question_gen = \"\"\n",
    "\n",
    "for page in data:\n",
    "    question_gen +=  page.page_content"
   ]
  },
  {
   "cell_type": "code",
   "execution_count": 15,
   "metadata": {},
   "outputs": [],
   "source": [
    "from langchain.text_splitter import TokenTextSplitter"
   ]
  },
  {
   "cell_type": "code",
   "execution_count": 16,
   "metadata": {},
   "outputs": [],
   "source": [
    "splitter_ques_gen = TokenTextSplitter(\n",
    "    model_name=\"gpt-3.5-turbo\",\n",
    "    chunk_size=1000,\n",
    "    chunk_overlap=200\n",
    ")"
   ]
  },
  {
   "cell_type": "code",
   "execution_count": 17,
   "metadata": {},
   "outputs": [],
   "source": [
    "chunk_ques_gen = splitter_ques_gen.split_text(question_gen)"
   ]
  },
  {
   "cell_type": "code",
   "execution_count": 19,
   "metadata": {},
   "outputs": [
    {
     "data": {
      "text/plain": [
       "2"
      ]
     },
     "execution_count": 19,
     "metadata": {},
     "output_type": "execute_result"
    }
   ],
   "source": [
    "len(chunk_ques_gen)"
   ]
  },
  {
   "cell_type": "code",
   "execution_count": 22,
   "metadata": {},
   "outputs": [
    {
     "data": {
      "text/plain": [
       "str"
      ]
     },
     "execution_count": 22,
     "metadata": {},
     "output_type": "execute_result"
    }
   ],
   "source": [
    "type(chunk_ques_gen[0]) # LLM does not support str type, need to convert it to document type instead"
   ]
  },
  {
   "cell_type": "code",
   "execution_count": 26,
   "metadata": {},
   "outputs": [],
   "source": [
    "from langchain.docstore.document import Document"
   ]
  },
  {
   "cell_type": "code",
   "execution_count": 27,
   "metadata": {},
   "outputs": [],
   "source": [
    "document_ques_gen = [Document(page_content = t) for t in chunk_ques_gen]"
   ]
  },
  {
   "cell_type": "code",
   "execution_count": 28,
   "metadata": {},
   "outputs": [
    {
     "data": {
      "text/plain": [
       "langchain_core.documents.base.Document"
      ]
     },
     "execution_count": 28,
     "metadata": {},
     "output_type": "execute_result"
    }
   ],
   "source": [
    "type(document_ques_gen[0])"
   ]
  },
  {
   "cell_type": "code",
   "execution_count": 29,
   "metadata": {},
   "outputs": [
    {
     "data": {
      "text/plain": [
       "[Document(page_content='Importance\\nand\\nthe\\nuse\\nof\\ncorrelation\\nin\\nStatistics\\nIntroduction\\nCorrelation\\nis\\na\\nstatistical\\nmeasure\\nthat\\nexpresses\\nthe\\nextent\\nto\\nwhich\\ntwo\\nvariables\\nare\\nlinearly\\nrelated.\\nIt\\nis\\na\\ncommon\\ntool\\nfor\\ndescribing\\nsimple\\nrelationships\\nwithout\\nmaking\\na\\nstatement\\nabout\\ncause\\nand\\neffect.\\nCorrelation\\ncoefficients\\nrange\\nfrom\\n-1\\nto\\n1,\\nwith\\na\\nvalue\\nof\\n0\\nindicating\\nno\\nlinear\\nrelationship\\nbetween\\nthe\\ntwo\\nvariables,\\na\\nvalue\\nof\\n1\\nindicating\\na\\nperfect\\npositive\\nlinear\\nrelationship,\\nand\\na\\nvalue\\nof\\n-1\\nindicating\\na\\nperfect\\nnegative\\nlinear\\nrelationship.\\nCorrelation\\nis\\nimportant\\nin\\nstatistics\\nbecause\\nit\\ncan\\nbe\\nused\\nto\\n1.\\nIdentify\\nrelationships\\nbetween\\nvariables:\\nCorrelation\\ncan\\nbe\\nused\\nto\\nidentify\\nwhether\\nthere\\nis\\na\\nrelationship\\nbetween\\ntwo\\nvariables,\\nand\\nif\\nso,\\nwhether\\nthe\\nrelationship\\nis\\npositive\\nor\\nnegative.\\nThis\\ninformation\\ncan\\nbe\\nuseful\\nfor\\nunderstanding\\nthe\\nrelationships\\nbetween\\ndifferent\\nfactors\\nin\\na\\ncomplex\\nsystem.\\n2.\\nMake\\npredictions:\\nIf\\nthere\\nis\\na\\nstrong\\ncorrelation\\nbetween\\ntwo\\nvariables,\\nit\\nis\\npossible\\nto\\nuse\\nthe\\nvalue\\nof\\none\\nvariable\\nto\\npredict\\nthe\\nvalue\\nof\\nthe\\nother\\nvariable.\\nThis\\ncan\\nbe\\nuseful\\nfor\\nmaking\\npredictions\\nin\\na\\nvariety\\nof\\nfields,\\nsuch\\nas\\nbusiness,\\nfinance,\\nand\\nmedicine.\\n3.\\nDevelop\\ncausal\\nmodels:\\nCorrelation\\ncan\\nbe\\nused\\nas\\na\\nstarting\\npoint\\nfor\\ndeveloping\\ncausal\\nmodels,\\nwhich\\nare\\nmodels\\nthat\\ndescribe\\nhow\\nchanges\\nin\\none\\nvariable\\ncause\\nchanges\\nin\\nother\\nvariables.\\nCausal\\nmodels\\ncan\\nbe\\nused\\nto\\nmake\\nmore\\naccurate\\npredictions\\nand\\nto\\ndevelop\\ninterventions\\nto\\nchange\\nthe\\nvalues\\nof\\nspecific\\nvariables.Correlation\\nis\\nused\\nin\\na\\nwide\\nvariety\\nof\\nfields\\nincluding\\n1.\\nBusiness:\\nCorrelation\\ncan\\nbe\\nused\\nto\\nidentify\\nrelationships\\nbetween\\ndifferent\\nbusiness\\nvariables,\\nsuch\\nas\\nsales,\\nadvertising\\nspending,\\nand\\ncustomer\\nsatisfaction.\\nThis\\ninformation\\ncan\\nbe\\nused\\nto\\nmake\\nbetter\\nbusiness\\ndecisions,\\nsuch\\nas\\nhow\\nto\\nallocate\\nmarketing\\nresources.\\n2.\\nFinance:\\nCorrelation\\ncan\\nbe\\nused\\nto\\nidentify\\nrelationships\\nbetween\\ndifferent\\nfinancial\\nassets,\\nsuch\\nas\\nstocks,\\nbonds,\\nand\\ncommodities.\\nThis\\ninformation\\ncan\\nbe\\nused\\nto\\nbuild\\ndiversified\\nportfolios\\nthat\\nreduce\\nrisk.\\n3.\\nMedicine:\\nCorrelation\\ncan\\nbe\\nused\\nto\\nidentify\\nrelationships\\nbetween\\ndifferent\\nmedical\\nvariables,\\nsuch\\nas\\nrisk\\nfactors\\nfor\\ndiseases\\nand\\nthe\\neffectiveness\\nof\\ntreatments.\\nThis\\ninformation\\ncan\\nbe\\nused\\nto\\nimprove\\nthe\\nprevention,\\ndiagnosis,\\nand\\ntreatment\\nof\\ndiseases.\\n4.\\nPsychology:\\nCorrelation\\ncan\\nbe\\nused\\nto\\nidentify\\nrelationships\\nbetween\\ndifferent\\npsychological\\nvariables,\\nsuch\\nas\\npersonality\\ntraits,\\ncognitive\\nabilities,\\nand\\nmental\\ndisorders.\\nThis\\ninformation\\ncan\\nbe\\nused\\nto\\ndevelop\\nbetter\\npsychological\\nassessments\\nand\\ntreatments.\\nHow\\ncorrelation\\nis\\nused\\nin\\nthe\\nreal\\nworld\\n1.\\nA\\nmarketing\\nmanager\\nmight\\nuse\\ncorrelation\\nto\\nidentify\\nthe\\nrelationship\\nbetween\\nadvertising\\nspending\\nand\\nsales.\\nThis\\ninformation\\ncould\\nbe\\nused\\nto\\ndecide\\nhow\\nmuch\\nmoney\\nto\\nallocate\\nto\\nadvertising.\\n2.\\nA\\nfinancial\\nanalyst\\nmight\\nuse\\ncorrelation\\nto\\nidentify\\nthe\\nrelationship\\nbetween\\nthe\\nreturns\\nof\\ndifferent\\nstocks.\\nThis\\ninformation\\ncould\\nbeused\\nto\\nbuild\\na\\nportfolio\\nof\\nstocks\\nthat\\nis\\ndiversified\\nand\\nhas\\n'),\n",
       " Document(page_content='\\nas\\npersonality\\ntraits,\\ncognitive\\nabilities,\\nand\\nmental\\ndisorders.\\nThis\\ninformation\\ncan\\nbe\\nused\\nto\\ndevelop\\nbetter\\npsychological\\nassessments\\nand\\ntreatments.\\nHow\\ncorrelation\\nis\\nused\\nin\\nthe\\nreal\\nworld\\n1.\\nA\\nmarketing\\nmanager\\nmight\\nuse\\ncorrelation\\nto\\nidentify\\nthe\\nrelationship\\nbetween\\nadvertising\\nspending\\nand\\nsales.\\nThis\\ninformation\\ncould\\nbe\\nused\\nto\\ndecide\\nhow\\nmuch\\nmoney\\nto\\nallocate\\nto\\nadvertising.\\n2.\\nA\\nfinancial\\nanalyst\\nmight\\nuse\\ncorrelation\\nto\\nidentify\\nthe\\nrelationship\\nbetween\\nthe\\nreturns\\nof\\ndifferent\\nstocks.\\nThis\\ninformation\\ncould\\nbeused\\nto\\nbuild\\na\\nportfolio\\nof\\nstocks\\nthat\\nis\\ndiversified\\nand\\nhas\\na\\nlower\\noverall\\nrisk.\\n3.\\nA\\nmedical\\nresearcher\\nmight\\nuse\\ncorrelation\\nto\\nidentify\\nthe\\nrelationship\\nbetween\\nsmoking\\nand\\nlung\\ncancer.\\nThis\\ninformation\\ncould\\nbe\\nused\\nto\\ndevelop\\npublic\\nhealth\\ncampaigns\\nto\\ndiscourage\\nsmoking.\\n4.\\nA\\npsychologist\\nmight\\nuse\\ncorrelation\\nto\\nidentify\\nthe\\nrelationship\\nbetween\\nanxiety\\nand\\ndepression.\\nThis\\ninformation\\ncould\\nbe\\nused\\nto\\ndevelop\\nmore\\neffective\\ntreatments\\nfor\\nanxiety\\nand\\ndepression.\\nConclusion\\nIt\\nis\\nimportant\\nto\\nnote\\nthat\\ncorrelation\\ndoes\\nnot\\nequal\\ncausation.\\nJust\\nbecause\\ntwo\\nvariables\\nare\\ncorrelated\\ndoes\\nnot\\nmean\\nthat\\none\\nvariable\\ncauses\\nthe\\nother .\\nFor\\nexample,\\nthere\\nis\\na\\nstrong\\ncorrelation\\nbetween\\nice\\ncream\\nsales\\nand\\nshark\\nattacks.\\nHowever ,\\nthis\\ndoes\\nnot\\nmean\\nthat\\neating\\nice\\ncream\\ncauses\\nshark\\nattacks.\\nInstead,\\nthere\\nis\\nlikely\\na\\nthird\\nvariable,\\nsuch\\nas\\nhot\\nweather ,\\nthat\\ncauses\\nboth\\nice\\ncream\\nsales\\nand\\nshark\\nattacks\\nto\\nincrease.\\nOverall,\\ncorrelation\\nis\\na\\npowerful\\nstatistical\\ntool\\nthat\\ncan\\nbe\\nused\\nto\\nidentify\\nrelationships\\nbetween\\nvariables,\\nmake\\npredictions,\\nand\\ndevelop\\ncausal\\nmodels.\\nIt\\nis\\nused\\nin\\na\\nwide\\nvariety\\nof\\nfields\\nto\\nmake\\nbetter\\ndecisions\\nand\\nimprove\\noutcomes.')]"
      ]
     },
     "execution_count": 29,
     "metadata": {},
     "output_type": "execute_result"
    }
   ],
   "source": [
    "document_ques_gen"
   ]
  },
  {
   "cell_type": "code",
   "execution_count": 38,
   "metadata": {},
   "outputs": [],
   "source": [
    "splitter_ans_gen = TokenTextSplitter(\n",
    "    model_name = \"gpt-3.5-turbo\",\n",
    "    chunk_size = 1000,\n",
    "    chunk_overlap = 100\n",
    ")\n"
   ]
  },
  {
   "cell_type": "code",
   "execution_count": 40,
   "metadata": {},
   "outputs": [],
   "source": [
    "document_ans_gen = splitter_ans_gen.split_documents(\n",
    "    document_ques_gen\n",
    ")"
   ]
  },
  {
   "cell_type": "code",
   "execution_count": 41,
   "metadata": {},
   "outputs": [
    {
     "data": {
      "text/plain": [
       "[Document(page_content='Importance\\nand\\nthe\\nuse\\nof\\ncorrelation\\nin\\nStatistics\\nIntroduction\\nCorrelation\\nis\\na\\nstatistical\\nmeasure\\nthat\\nexpresses\\nthe\\nextent\\nto\\nwhich\\ntwo\\nvariables\\nare\\nlinearly\\nrelated.\\nIt\\nis\\na\\ncommon\\ntool\\nfor\\ndescribing\\nsimple\\nrelationships\\nwithout\\nmaking\\na\\nstatement\\nabout\\ncause\\nand\\neffect.\\nCorrelation\\ncoefficients\\nrange\\nfrom\\n-1\\nto\\n1,\\nwith\\na\\nvalue\\nof\\n0\\nindicating\\nno\\nlinear\\nrelationship\\nbetween\\nthe\\ntwo\\nvariables,\\na\\nvalue\\nof\\n1\\nindicating\\na\\nperfect\\npositive\\nlinear\\nrelationship,\\nand\\na\\nvalue\\nof\\n-1\\nindicating\\na\\nperfect\\nnegative\\nlinear\\nrelationship.\\nCorrelation\\nis\\nimportant\\nin\\nstatistics\\nbecause\\nit\\ncan\\nbe\\nused\\nto\\n1.\\nIdentify\\nrelationships\\nbetween\\nvariables:\\nCorrelation\\ncan\\nbe\\nused\\nto\\nidentify\\nwhether\\nthere\\nis\\na\\nrelationship\\nbetween\\ntwo\\nvariables,\\nand\\nif\\nso,\\nwhether\\nthe\\nrelationship\\nis\\npositive\\nor\\nnegative.\\nThis\\ninformation\\ncan\\nbe\\nuseful\\nfor\\nunderstanding\\nthe\\nrelationships\\nbetween\\ndifferent\\nfactors\\nin\\na\\ncomplex\\nsystem.\\n2.\\nMake\\npredictions:\\nIf\\nthere\\nis\\na\\nstrong\\ncorrelation\\nbetween\\ntwo\\nvariables,\\nit\\nis\\npossible\\nto\\nuse\\nthe\\nvalue\\nof\\none\\nvariable\\nto\\npredict\\nthe\\nvalue\\nof\\nthe\\nother\\nvariable.\\nThis\\ncan\\nbe\\nuseful\\nfor\\nmaking\\npredictions\\nin\\na\\nvariety\\nof\\nfields,\\nsuch\\nas\\nbusiness,\\nfinance,\\nand\\nmedicine.\\n3.\\nDevelop\\ncausal\\nmodels:\\nCorrelation\\ncan\\nbe\\nused\\nas\\na\\nstarting\\npoint\\nfor\\ndeveloping\\ncausal\\nmodels,\\nwhich\\nare\\nmodels\\nthat\\ndescribe\\nhow\\nchanges\\nin\\none\\nvariable\\ncause\\nchanges\\nin\\nother\\nvariables.\\nCausal\\nmodels\\ncan\\nbe\\nused\\nto\\nmake\\nmore\\naccurate\\npredictions\\nand\\nto\\ndevelop\\ninterventions\\nto\\nchange\\nthe\\nvalues\\nof\\nspecific\\nvariables.Correlation\\nis\\nused\\nin\\na\\nwide\\nvariety\\nof\\nfields\\nincluding\\n1.\\nBusiness:\\nCorrelation\\ncan\\nbe\\nused\\nto\\nidentify\\nrelationships\\nbetween\\ndifferent\\nbusiness\\nvariables,\\nsuch\\nas\\nsales,\\nadvertising\\nspending,\\nand\\ncustomer\\nsatisfaction.\\nThis\\ninformation\\ncan\\nbe\\nused\\nto\\nmake\\nbetter\\nbusiness\\ndecisions,\\nsuch\\nas\\nhow\\nto\\nallocate\\nmarketing\\nresources.\\n2.\\nFinance:\\nCorrelation\\ncan\\nbe\\nused\\nto\\nidentify\\nrelationships\\nbetween\\ndifferent\\nfinancial\\nassets,\\nsuch\\nas\\nstocks,\\nbonds,\\nand\\ncommodities.\\nThis\\ninformation\\ncan\\nbe\\nused\\nto\\nbuild\\ndiversified\\nportfolios\\nthat\\nreduce\\nrisk.\\n3.\\nMedicine:\\nCorrelation\\ncan\\nbe\\nused\\nto\\nidentify\\nrelationships\\nbetween\\ndifferent\\nmedical\\nvariables,\\nsuch\\nas\\nrisk\\nfactors\\nfor\\ndiseases\\nand\\nthe\\neffectiveness\\nof\\ntreatments.\\nThis\\ninformation\\ncan\\nbe\\nused\\nto\\nimprove\\nthe\\nprevention,\\ndiagnosis,\\nand\\ntreatment\\nof\\ndiseases.\\n4.\\nPsychology:\\nCorrelation\\ncan\\nbe\\nused\\nto\\nidentify\\nrelationships\\nbetween\\ndifferent\\npsychological\\nvariables,\\nsuch\\nas\\npersonality\\ntraits,\\ncognitive\\nabilities,\\nand\\nmental\\ndisorders.\\nThis\\ninformation\\ncan\\nbe\\nused\\nto\\ndevelop\\nbetter\\npsychological\\nassessments\\nand\\ntreatments.\\nHow\\ncorrelation\\nis\\nused\\nin\\nthe\\nreal\\nworld\\n1.\\nA\\nmarketing\\nmanager\\nmight\\nuse\\ncorrelation\\nto\\nidentify\\nthe\\nrelationship\\nbetween\\nadvertising\\nspending\\nand\\nsales.\\nThis\\ninformation\\ncould\\nbe\\nused\\nto\\ndecide\\nhow\\nmuch\\nmoney\\nto\\nallocate\\nto\\nadvertising.\\n2.\\nA\\nfinancial\\nanalyst\\nmight\\nuse\\ncorrelation\\nto\\nidentify\\nthe\\nrelationship\\nbetween\\nthe\\nreturns\\nof\\ndifferent\\nstocks.\\nThis\\ninformation\\ncould\\nbeused\\nto\\nbuild\\na\\nportfolio\\nof\\nstocks\\nthat\\nis\\ndiversified\\nand\\nhas\\n'),\n",
       " Document(page_content='\\nas\\npersonality\\ntraits,\\ncognitive\\nabilities,\\nand\\nmental\\ndisorders.\\nThis\\ninformation\\ncan\\nbe\\nused\\nto\\ndevelop\\nbetter\\npsychological\\nassessments\\nand\\ntreatments.\\nHow\\ncorrelation\\nis\\nused\\nin\\nthe\\nreal\\nworld\\n1.\\nA\\nmarketing\\nmanager\\nmight\\nuse\\ncorrelation\\nto\\nidentify\\nthe\\nrelationship\\nbetween\\nadvertising\\nspending\\nand\\nsales.\\nThis\\ninformation\\ncould\\nbe\\nused\\nto\\ndecide\\nhow\\nmuch\\nmoney\\nto\\nallocate\\nto\\nadvertising.\\n2.\\nA\\nfinancial\\nanalyst\\nmight\\nuse\\ncorrelation\\nto\\nidentify\\nthe\\nrelationship\\nbetween\\nthe\\nreturns\\nof\\ndifferent\\nstocks.\\nThis\\ninformation\\ncould\\nbeused\\nto\\nbuild\\na\\nportfolio\\nof\\nstocks\\nthat\\nis\\ndiversified\\nand\\nhas\\na\\nlower\\noverall\\nrisk.\\n3.\\nA\\nmedical\\nresearcher\\nmight\\nuse\\ncorrelation\\nto\\nidentify\\nthe\\nrelationship\\nbetween\\nsmoking\\nand\\nlung\\ncancer.\\nThis\\ninformation\\ncould\\nbe\\nused\\nto\\ndevelop\\npublic\\nhealth\\ncampaigns\\nto\\ndiscourage\\nsmoking.\\n4.\\nA\\npsychologist\\nmight\\nuse\\ncorrelation\\nto\\nidentify\\nthe\\nrelationship\\nbetween\\nanxiety\\nand\\ndepression.\\nThis\\ninformation\\ncould\\nbe\\nused\\nto\\ndevelop\\nmore\\neffective\\ntreatments\\nfor\\nanxiety\\nand\\ndepression.\\nConclusion\\nIt\\nis\\nimportant\\nto\\nnote\\nthat\\ncorrelation\\ndoes\\nnot\\nequal\\ncausation.\\nJust\\nbecause\\ntwo\\nvariables\\nare\\ncorrelated\\ndoes\\nnot\\nmean\\nthat\\none\\nvariable\\ncauses\\nthe\\nother .\\nFor\\nexample,\\nthere\\nis\\na\\nstrong\\ncorrelation\\nbetween\\nice\\ncream\\nsales\\nand\\nshark\\nattacks.\\nHowever ,\\nthis\\ndoes\\nnot\\nmean\\nthat\\neating\\nice\\ncream\\ncauses\\nshark\\nattacks.\\nInstead,\\nthere\\nis\\nlikely\\na\\nthird\\nvariable,\\nsuch\\nas\\nhot\\nweather ,\\nthat\\ncauses\\nboth\\nice\\ncream\\nsales\\nand\\nshark\\nattacks\\nto\\nincrease.\\nOverall,\\ncorrelation\\nis\\na\\npowerful\\nstatistical\\ntool\\nthat\\ncan\\nbe\\nused\\nto\\nidentify\\nrelationships\\nbetween\\nvariables,\\nmake\\npredictions,\\nand\\ndevelop\\ncausal\\nmodels.\\nIt\\nis\\nused\\nin\\na\\nwide\\nvariety\\nof\\nfields\\nto\\nmake\\nbetter\\ndecisions\\nand\\nimprove\\noutcomes.')]"
      ]
     },
     "execution_count": 41,
     "metadata": {},
     "output_type": "execute_result"
    }
   ],
   "source": [
    "document_ans_gen"
   ]
  },
  {
   "cell_type": "code",
   "execution_count": 30,
   "metadata": {},
   "outputs": [],
   "source": [
    "from langchain.chat_models import ChatOpenAI"
   ]
  },
  {
   "cell_type": "code",
   "execution_count": 31,
   "metadata": {},
   "outputs": [
    {
     "name": "stderr",
     "output_type": "stream",
     "text": [
      "c:\\Users\\ASHWARY\\anaconda3\\envs\\interview\\lib\\site-packages\\langchain_core\\_api\\deprecation.py:119: LangChainDeprecationWarning: The class `ChatOpenAI` was deprecated in LangChain 0.0.10 and will be removed in 0.3.0. An updated version of the class exists in the langchain-openai package and should be used instead. To use it run `pip install -U langchain-openai` and import as `from langchain_openai import ChatOpenAI`.\n",
      "  warn_deprecated(\n"
     ]
    }
   ],
   "source": [
    "llm_ques_gen_pipeline = ChatOpenAI(\n",
    "    model = 'gpt-3.5-turbo',\n",
    "    temperature = 0.3\n",
    ")"
   ]
  },
  {
   "cell_type": "code",
   "execution_count": 32,
   "metadata": {},
   "outputs": [],
   "source": [
    "prompt_template = \"\"\"\n",
    "You are an expert at creating questions based on coding materials and documentation.\n",
    "Your goal is to prepare a coder or programmer for their exam and coding tests.\n",
    "You do this by asking questions about the text below:\n",
    "\n",
    "-----------\n",
    "{text}\n",
    "-----------\n",
    "\n",
    "Create questions that will prepare the coders or programmers for their tests.\n",
    "Make sure not to lose any important information.\n",
    "\n",
    "QUESTIONS:\n",
    "\"\"\""
   ]
  },
  {
   "cell_type": "code",
   "execution_count": 33,
   "metadata": {},
   "outputs": [],
   "source": [
    "from langchain.prompts import PromptTemplate"
   ]
  },
  {
   "cell_type": "code",
   "execution_count": 34,
   "metadata": {},
   "outputs": [],
   "source": [
    "PROMPT_QUESTIONS = PromptTemplate(template=prompt_template, input_variables=['text'])"
   ]
  },
  {
   "cell_type": "code",
   "execution_count": 35,
   "metadata": {},
   "outputs": [],
   "source": [
    "refine_template = (\"\"\"\n",
    "You are an expert at creating practice questions based on coding material and documentation.\n",
    "Your goal is to help a coder or programmer prepare for a coding test.\n",
    "We have received some practice questions to a certain extent: {existing_answer}.\n",
    "We have the option to refine the existing questions or add new ones.\n",
    "(only if necessary) with some more context below.\n",
    "------------\n",
    "{text}\n",
    "------------\n",
    "\n",
    "Given the new context, refine the original questions in English.\n",
    "If the context is not helpful, please provide the original questions.\n",
    "QUESTIONS:\n",
    "\"\"\"\n",
    ")"
   ]
  },
  {
   "cell_type": "code",
   "execution_count": 36,
   "metadata": {},
   "outputs": [],
   "source": [
    "REFINE_PROMPT_QUESTIONS = PromptTemplate(\n",
    "    input_variables=[\"existing_answer\", \"text\"],\n",
    "    template=refine_template,\n",
    ")"
   ]
  },
  {
   "cell_type": "code",
   "execution_count": 37,
   "metadata": {},
   "outputs": [],
   "source": [
    "from langchain.chains.summarize import load_summarize_chain"
   ]
  },
  {
   "cell_type": "code",
   "execution_count": 42,
   "metadata": {},
   "outputs": [],
   "source": [
    "ques_gen_chain = load_summarize_chain(llm = llm_ques_gen_pipeline,\n",
    "                                      chain_type = \"refine\",\n",
    "                                      verbose=True,\n",
    "                                      question_prompt=PROMPT_QUESTIONS,\n",
    "                                      refine_prompt=REFINE_PROMPT_QUESTIONS)"
   ]
  },
  {
   "cell_type": "code",
   "execution_count": 43,
   "metadata": {},
   "outputs": [
    {
     "name": "stderr",
     "output_type": "stream",
     "text": [
      "c:\\Users\\ASHWARY\\anaconda3\\envs\\interview\\lib\\site-packages\\langchain_core\\_api\\deprecation.py:119: LangChainDeprecationWarning: The method `Chain.run` was deprecated in langchain 0.1.0 and will be removed in 0.3.0. Use invoke instead.\n",
      "  warn_deprecated(\n"
     ]
    },
    {
     "name": "stdout",
     "output_type": "stream",
     "text": [
      "\n",
      "\n",
      "\u001b[1m> Entering new RefineDocumentsChain chain...\u001b[0m\n",
      "\n",
      "\n",
      "\u001b[1m> Entering new LLMChain chain...\u001b[0m\n",
      "Prompt after formatting:\n",
      "\u001b[32;1m\u001b[1;3m\n",
      "You are an expert at creating questions based on coding materials and documentation.\n",
      "Your goal is to prepare a coder or programmer for their exm and coding tests.\n",
      "You do this by asking questions about the text below:\n",
      "\n",
      "-----------\n",
      "Importance\n",
      "and\n",
      "the\n",
      "use\n",
      "of\n",
      "correlation\n",
      "in\n",
      "Statistics\n",
      "Introduction\n",
      "Correlation\n",
      "is\n",
      "a\n",
      "statistical\n",
      "measure\n",
      "that\n",
      "expresses\n",
      "the\n",
      "extent\n",
      "to\n",
      "which\n",
      "two\n",
      "variables\n",
      "are\n",
      "linearly\n",
      "related.\n",
      "It\n",
      "is\n",
      "a\n",
      "common\n",
      "tool\n",
      "for\n",
      "describing\n",
      "simple\n",
      "relationships\n",
      "without\n",
      "making\n",
      "a\n",
      "statement\n",
      "about\n",
      "cause\n",
      "and\n",
      "effect.\n",
      "Correlation\n",
      "coefficients\n",
      "range\n",
      "from\n",
      "-1\n",
      "to\n",
      "1,\n",
      "with\n",
      "a\n",
      "value\n",
      "of\n",
      "0\n",
      "indicating\n",
      "no\n",
      "linear\n",
      "relationship\n",
      "between\n",
      "the\n",
      "two\n",
      "variables,\n",
      "a\n",
      "value\n",
      "of\n",
      "1\n",
      "indicating\n",
      "a\n",
      "perfect\n",
      "positive\n",
      "linear\n",
      "relationship,\n",
      "and\n",
      "a\n",
      "value\n",
      "of\n",
      "-1\n",
      "indicating\n",
      "a\n",
      "perfect\n",
      "negative\n",
      "linear\n",
      "relationship.\n",
      "Correlation\n",
      "is\n",
      "important\n",
      "in\n",
      "statistics\n",
      "because\n",
      "it\n",
      "can\n",
      "be\n",
      "used\n",
      "to\n",
      "1.\n",
      "Identify\n",
      "relationships\n",
      "between\n",
      "variables:\n",
      "Correlation\n",
      "can\n",
      "be\n",
      "used\n",
      "to\n",
      "identify\n",
      "whether\n",
      "there\n",
      "is\n",
      "a\n",
      "relationship\n",
      "between\n",
      "two\n",
      "variables,\n",
      "and\n",
      "if\n",
      "so,\n",
      "whether\n",
      "the\n",
      "relationship\n",
      "is\n",
      "positive\n",
      "or\n",
      "negative.\n",
      "This\n",
      "information\n",
      "can\n",
      "be\n",
      "useful\n",
      "for\n",
      "understanding\n",
      "the\n",
      "relationships\n",
      "between\n",
      "different\n",
      "factors\n",
      "in\n",
      "a\n",
      "complex\n",
      "system.\n",
      "2.\n",
      "Make\n",
      "predictions:\n",
      "If\n",
      "there\n",
      "is\n",
      "a\n",
      "strong\n",
      "correlation\n",
      "between\n",
      "two\n",
      "variables,\n",
      "it\n",
      "is\n",
      "possible\n",
      "to\n",
      "use\n",
      "the\n",
      "value\n",
      "of\n",
      "one\n",
      "variable\n",
      "to\n",
      "predict\n",
      "the\n",
      "value\n",
      "of\n",
      "the\n",
      "other\n",
      "variable.\n",
      "This\n",
      "can\n",
      "be\n",
      "useful\n",
      "for\n",
      "making\n",
      "predictions\n",
      "in\n",
      "a\n",
      "variety\n",
      "of\n",
      "fields,\n",
      "such\n",
      "as\n",
      "business,\n",
      "finance,\n",
      "and\n",
      "medicine.\n",
      "3.\n",
      "Develop\n",
      "causal\n",
      "models:\n",
      "Correlation\n",
      "can\n",
      "be\n",
      "used\n",
      "as\n",
      "a\n",
      "starting\n",
      "point\n",
      "for\n",
      "developing\n",
      "causal\n",
      "models,\n",
      "which\n",
      "are\n",
      "models\n",
      "that\n",
      "describe\n",
      "how\n",
      "changes\n",
      "in\n",
      "one\n",
      "variable\n",
      "cause\n",
      "changes\n",
      "in\n",
      "other\n",
      "variables.\n",
      "Causal\n",
      "models\n",
      "can\n",
      "be\n",
      "used\n",
      "to\n",
      "make\n",
      "more\n",
      "accurate\n",
      "predictions\n",
      "and\n",
      "to\n",
      "develop\n",
      "interventions\n",
      "to\n",
      "change\n",
      "the\n",
      "values\n",
      "of\n",
      "specific\n",
      "variables.Correlation\n",
      "is\n",
      "used\n",
      "in\n",
      "a\n",
      "wide\n",
      "variety\n",
      "of\n",
      "fields\n",
      "including\n",
      "1.\n",
      "Business:\n",
      "Correlation\n",
      "can\n",
      "be\n",
      "used\n",
      "to\n",
      "identify\n",
      "relationships\n",
      "between\n",
      "different\n",
      "business\n",
      "variables,\n",
      "such\n",
      "as\n",
      "sales,\n",
      "advertising\n",
      "spending,\n",
      "and\n",
      "customer\n",
      "satisfaction.\n",
      "This\n",
      "information\n",
      "can\n",
      "be\n",
      "used\n",
      "to\n",
      "make\n",
      "better\n",
      "business\n",
      "decisions,\n",
      "such\n",
      "as\n",
      "how\n",
      "to\n",
      "allocate\n",
      "marketing\n",
      "resources.\n",
      "2.\n",
      "Finance:\n",
      "Correlation\n",
      "can\n",
      "be\n",
      "used\n",
      "to\n",
      "identify\n",
      "relationships\n",
      "between\n",
      "different\n",
      "financial\n",
      "assets,\n",
      "such\n",
      "as\n",
      "stocks,\n",
      "bonds,\n",
      "and\n",
      "commodities.\n",
      "This\n",
      "information\n",
      "can\n",
      "be\n",
      "used\n",
      "to\n",
      "build\n",
      "diversified\n",
      "portfolios\n",
      "that\n",
      "reduce\n",
      "risk.\n",
      "3.\n",
      "Medicine:\n",
      "Correlation\n",
      "can\n",
      "be\n",
      "used\n",
      "to\n",
      "identify\n",
      "relationships\n",
      "between\n",
      "different\n",
      "medical\n",
      "variables,\n",
      "such\n",
      "as\n",
      "risk\n",
      "factors\n",
      "for\n",
      "diseases\n",
      "and\n",
      "the\n",
      "effectiveness\n",
      "of\n",
      "treatments.\n",
      "This\n",
      "information\n",
      "can\n",
      "be\n",
      "used\n",
      "to\n",
      "improve\n",
      "the\n",
      "prevention,\n",
      "diagnosis,\n",
      "and\n",
      "treatment\n",
      "of\n",
      "diseases.\n",
      "4.\n",
      "Psychology:\n",
      "Correlation\n",
      "can\n",
      "be\n",
      "used\n",
      "to\n",
      "identify\n",
      "relationships\n",
      "between\n",
      "different\n",
      "psychological\n",
      "variables,\n",
      "such\n",
      "as\n",
      "personality\n",
      "traits,\n",
      "cognitive\n",
      "abilities,\n",
      "and\n",
      "mental\n",
      "disorders.\n",
      "This\n",
      "information\n",
      "can\n",
      "be\n",
      "used\n",
      "to\n",
      "develop\n",
      "better\n",
      "psychological\n",
      "assessments\n",
      "and\n",
      "treatments.\n",
      "How\n",
      "correlation\n",
      "is\n",
      "used\n",
      "in\n",
      "the\n",
      "real\n",
      "world\n",
      "1.\n",
      "A\n",
      "marketing\n",
      "manager\n",
      "might\n",
      "use\n",
      "correlation\n",
      "to\n",
      "identify\n",
      "the\n",
      "relationship\n",
      "between\n",
      "advertising\n",
      "spending\n",
      "and\n",
      "sales.\n",
      "This\n",
      "information\n",
      "could\n",
      "be\n",
      "used\n",
      "to\n",
      "decide\n",
      "how\n",
      "much\n",
      "money\n",
      "to\n",
      "allocate\n",
      "to\n",
      "advertising.\n",
      "2.\n",
      "A\n",
      "financial\n",
      "analyst\n",
      "might\n",
      "use\n",
      "correlation\n",
      "to\n",
      "identify\n",
      "the\n",
      "relationship\n",
      "between\n",
      "the\n",
      "returns\n",
      "of\n",
      "different\n",
      "stocks.\n",
      "This\n",
      "information\n",
      "could\n",
      "beused\n",
      "to\n",
      "build\n",
      "a\n",
      "portfolio\n",
      "of\n",
      "stocks\n",
      "that\n",
      "is\n",
      "diversified\n",
      "and\n",
      "has\n",
      "\n",
      "-----------\n",
      "\n",
      "Create questions that will prepare the coders or programmers for thier tests.\n",
      "Make sure not to lose any important information.\n",
      "\n",
      "QUESTIONS:\n",
      "\u001b[0m\n",
      "\n",
      "\u001b[1m> Finished chain.\u001b[0m\n",
      "\n",
      "\n",
      "\u001b[1m> Entering new LLMChain chain...\u001b[0m\n",
      "Prompt after formatting:\n",
      "\u001b[32;1m\u001b[1;3m\n",
      "You are an expert at creating practice questions based on coding material and documentation.\n",
      "Your goal is to help a coder or programmer prepare for a coding test.\n",
      "We have received some practice questions to a certain extent: 1. What is correlation in statistics and how is it measured?\n",
      "2. How does a correlation coefficient range from -1 to 1 indicate the relationship between two variables?\n",
      "3. What are the three main uses of correlation in statistics?\n",
      "4. How can correlation be used to make predictions in various fields?\n",
      "5. How is correlation used in business, finance, medicine, and psychology?\n",
      "6. Provide an example of how a marketing manager could use correlation in decision-making.\n",
      "7. How can a financial analyst use correlation to build a diversified stock portfolio?\n",
      "8. What is the importance of correlation in developing causal models?\n",
      "9. How can correlation be used to identify relationships between variables in a complex system?\n",
      "10. How does correlation help in understanding the relationships between different factors in a system?.\n",
      "We have the option to refine the existing questions or add new ones.\n",
      "(only if necessary) with some more context below.\n",
      "------------\n",
      "\n",
      "as\n",
      "personality\n",
      "traits,\n",
      "cognitive\n",
      "abilities,\n",
      "and\n",
      "mental\n",
      "disorders.\n",
      "This\n",
      "information\n",
      "can\n",
      "be\n",
      "used\n",
      "to\n",
      "develop\n",
      "better\n",
      "psychological\n",
      "assessments\n",
      "and\n",
      "treatments.\n",
      "How\n",
      "correlation\n",
      "is\n",
      "used\n",
      "in\n",
      "the\n",
      "real\n",
      "world\n",
      "1.\n",
      "A\n",
      "marketing\n",
      "manager\n",
      "might\n",
      "use\n",
      "correlation\n",
      "to\n",
      "identify\n",
      "the\n",
      "relationship\n",
      "between\n",
      "advertising\n",
      "spending\n",
      "and\n",
      "sales.\n",
      "This\n",
      "information\n",
      "could\n",
      "be\n",
      "used\n",
      "to\n",
      "decide\n",
      "how\n",
      "much\n",
      "money\n",
      "to\n",
      "allocate\n",
      "to\n",
      "advertising.\n",
      "2.\n",
      "A\n",
      "financial\n",
      "analyst\n",
      "might\n",
      "use\n",
      "correlation\n",
      "to\n",
      "identify\n",
      "the\n",
      "relationship\n",
      "between\n",
      "the\n",
      "returns\n",
      "of\n",
      "different\n",
      "stocks.\n",
      "This\n",
      "information\n",
      "could\n",
      "beused\n",
      "to\n",
      "build\n",
      "a\n",
      "portfolio\n",
      "of\n",
      "stocks\n",
      "that\n",
      "is\n",
      "diversified\n",
      "and\n",
      "has\n",
      "a\n",
      "lower\n",
      "overall\n",
      "risk.\n",
      "3.\n",
      "A\n",
      "medical\n",
      "researcher\n",
      "might\n",
      "use\n",
      "correlation\n",
      "to\n",
      "identify\n",
      "the\n",
      "relationship\n",
      "between\n",
      "smoking\n",
      "and\n",
      "lung\n",
      "cancer.\n",
      "This\n",
      "information\n",
      "could\n",
      "be\n",
      "used\n",
      "to\n",
      "develop\n",
      "public\n",
      "health\n",
      "campaigns\n",
      "to\n",
      "discourage\n",
      "smoking.\n",
      "4.\n",
      "A\n",
      "psychologist\n",
      "might\n",
      "use\n",
      "correlation\n",
      "to\n",
      "identify\n",
      "the\n",
      "relationship\n",
      "between\n",
      "anxiety\n",
      "and\n",
      "depression.\n",
      "This\n",
      "information\n",
      "could\n",
      "be\n",
      "used\n",
      "to\n",
      "develop\n",
      "more\n",
      "effective\n",
      "treatments\n",
      "for\n",
      "anxiety\n",
      "and\n",
      "depression.\n",
      "Conclusion\n",
      "It\n",
      "is\n",
      "important\n",
      "to\n",
      "note\n",
      "that\n",
      "correlation\n",
      "does\n",
      "not\n",
      "equal\n",
      "causation.\n",
      "Just\n",
      "because\n",
      "two\n",
      "variables\n",
      "are\n",
      "correlated\n",
      "does\n",
      "not\n",
      "mean\n",
      "that\n",
      "one\n",
      "variable\n",
      "causes\n",
      "the\n",
      "other .\n",
      "For\n",
      "example,\n",
      "there\n",
      "is\n",
      "a\n",
      "strong\n",
      "correlation\n",
      "between\n",
      "ice\n",
      "cream\n",
      "sales\n",
      "and\n",
      "shark\n",
      "attacks.\n",
      "However ,\n",
      "this\n",
      "does\n",
      "not\n",
      "mean\n",
      "that\n",
      "eating\n",
      "ice\n",
      "cream\n",
      "causes\n",
      "shark\n",
      "attacks.\n",
      "Instead,\n",
      "there\n",
      "is\n",
      "likely\n",
      "a\n",
      "third\n",
      "variable,\n",
      "such\n",
      "as\n",
      "hot\n",
      "weather ,\n",
      "that\n",
      "causes\n",
      "both\n",
      "ice\n",
      "cream\n",
      "sales\n",
      "and\n",
      "shark\n",
      "attacks\n",
      "to\n",
      "increase.\n",
      "Overall,\n",
      "correlation\n",
      "is\n",
      "a\n",
      "powerful\n",
      "statistical\n",
      "tool\n",
      "that\n",
      "can\n",
      "be\n",
      "used\n",
      "to\n",
      "identify\n",
      "relationships\n",
      "between\n",
      "variables,\n",
      "make\n",
      "predictions,\n",
      "and\n",
      "develop\n",
      "causal\n",
      "models.\n",
      "It\n",
      "is\n",
      "used\n",
      "in\n",
      "a\n",
      "wide\n",
      "variety\n",
      "of\n",
      "fields\n",
      "to\n",
      "make\n",
      "better\n",
      "decisions\n",
      "and\n",
      "improve\n",
      "outcomes.\n",
      "------------\n",
      "\n",
      "Given the new context, refine the original questions in English.\n",
      "If the context is not helpful, please provide the original questions.\n",
      "QUESTIONS:\n",
      "\u001b[0m\n",
      "\n",
      "\u001b[1m> Finished chain.\u001b[0m\n",
      "\n",
      "\u001b[1m> Finished chain.\u001b[0m\n"
     ]
    }
   ],
   "source": [
    "ques = ques_gen_chain.run(document_ques_gen)"
   ]
  },
  {
   "cell_type": "code",
   "execution_count": 45,
   "metadata": {},
   "outputs": [
    {
     "name": "stdout",
     "output_type": "stream",
     "text": [
      "1. What is correlation in statistics and how is it measured?\n",
      "2. How does a correlation coefficient range from -1 to 1 indicate the relationship between two variables?\n",
      "3. What are the three main uses of correlation in statistics?\n",
      "4. How can correlation be used to make predictions in various fields?\n",
      "5. How is correlation used in business, finance, medicine, and psychology?\n",
      "6. Provide an example of how a marketing manager could use correlation in decision-making.\n",
      "7. How can a financial analyst use correlation to build a diversified stock portfolio?\n",
      "8. What is the importance of correlation in developing causal models?\n",
      "9. How can correlation be used to identify relationships between variables in a complex system?\n",
      "10. How does correlation help in understanding the relationships between different factors in a system?\n"
     ]
    }
   ],
   "source": [
    "print(ques)"
   ]
  },
  {
   "cell_type": "code",
   "execution_count": 46,
   "metadata": {},
   "outputs": [],
   "source": [
    "from langchain.embeddings.openai import OpenAIEmbeddings"
   ]
  },
  {
   "cell_type": "code",
   "execution_count": 47,
   "metadata": {},
   "outputs": [
    {
     "name": "stderr",
     "output_type": "stream",
     "text": [
      "c:\\Users\\ASHWARY\\anaconda3\\envs\\interview\\lib\\site-packages\\langchain_core\\_api\\deprecation.py:119: LangChainDeprecationWarning: The class `OpenAIEmbeddings` was deprecated in LangChain 0.0.9 and will be removed in 0.3.0. An updated version of the class exists in the langchain-openai package and should be used instead. To use it run `pip install -U langchain-openai` and import as `from langchain_openai import OpenAIEmbeddings`.\n",
      "  warn_deprecated(\n"
     ]
    }
   ],
   "source": [
    "embeddings = OpenAIEmbeddings()"
   ]
  },
  {
   "cell_type": "code",
   "execution_count": 49,
   "metadata": {},
   "outputs": [],
   "source": [
    "from langchain.vectorstores import FAISS"
   ]
  },
  {
   "cell_type": "code",
   "execution_count": 50,
   "metadata": {},
   "outputs": [],
   "source": [
    "vector_store = FAISS.from_documents(document_ans_gen, embeddings)"
   ]
  },
  {
   "cell_type": "code",
   "execution_count": 51,
   "metadata": {},
   "outputs": [
    {
     "data": {
      "text/plain": [
       "<langchain_community.vectorstores.faiss.FAISS at 0x1c6fd68d900>"
      ]
     },
     "execution_count": 51,
     "metadata": {},
     "output_type": "execute_result"
    }
   ],
   "source": [
    "vector_store"
   ]
  },
  {
   "cell_type": "code",
   "execution_count": 52,
   "metadata": {},
   "outputs": [],
   "source": [
    "langchain_answer_gen = ChatOpenAI(temperature=0.1, model=\"gpt-3.5-turbo\")"
   ]
  },
  {
   "cell_type": "code",
   "execution_count": 53,
   "metadata": {},
   "outputs": [
    {
     "data": {
      "text/plain": [
       "'1. What is correlation in statistics and how is it measured?\\n2. How does a correlation coefficient range from -1 to 1 indicate the relationship between two variables?\\n3. What are the three main uses of correlation in statistics?\\n4. How can correlation be used to make predictions in various fields?\\n5. How is correlation used in business, finance, medicine, and psychology?\\n6. Provide an example of how a marketing manager could use correlation in decision-making.\\n7. How can a financial analyst use correlation to build a diversified stock portfolio?\\n8. What is the importance of correlation in developing causal models?\\n9. How can correlation be used to identify relationships between variables in a complex system?\\n10. How does correlation help in understanding the relationships between different factors in a system?'"
      ]
     },
     "execution_count": 53,
     "metadata": {},
     "output_type": "execute_result"
    }
   ],
   "source": [
    "ques"
   ]
  },
  {
   "cell_type": "code",
   "execution_count": 54,
   "metadata": {},
   "outputs": [],
   "source": [
    "ques_list = ques.split(\"\\n\")"
   ]
  },
  {
   "cell_type": "code",
   "execution_count": 55,
   "metadata": {},
   "outputs": [
    {
     "data": {
      "text/plain": [
       "['1. What is correlation in statistics and how is it measured?',\n",
       " '2. How does a correlation coefficient range from -1 to 1 indicate the relationship between two variables?',\n",
       " '3. What are the three main uses of correlation in statistics?',\n",
       " '4. How can correlation be used to make predictions in various fields?',\n",
       " '5. How is correlation used in business, finance, medicine, and psychology?',\n",
       " '6. Provide an example of how a marketing manager could use correlation in decision-making.',\n",
       " '7. How can a financial analyst use correlation to build a diversified stock portfolio?',\n",
       " '8. What is the importance of correlation in developing causal models?',\n",
       " '9. How can correlation be used to identify relationships between variables in a complex system?',\n",
       " '10. How does correlation help in understanding the relationships between different factors in a system?']"
      ]
     },
     "execution_count": 55,
     "metadata": {},
     "output_type": "execute_result"
    }
   ],
   "source": [
    "ques_list"
   ]
  },
  {
   "cell_type": "code",
   "execution_count": 56,
   "metadata": {},
   "outputs": [],
   "source": [
    "from langchain.chains import RetrievalQA"
   ]
  },
  {
   "cell_type": "code",
   "execution_count": 57,
   "metadata": {},
   "outputs": [],
   "source": [
    "answer_generation_chain = RetrievalQA.from_chain_type(llm=langchain_answer_gen,\n",
    "                                                      chain_type=\"stuff\",\n",
    "                                                      retriever=vector_store.as_retriever())"
   ]
  },
  {
   "cell_type": "code",
   "execution_count": 59,
   "metadata": {},
   "outputs": [
    {
     "name": "stdout",
     "output_type": "stream",
     "text": [
      "Question:  1. What is correlation in statistics and how is it measured?\n",
      "Answer:  Correlation in statistics is a measure that expresses the extent to which two variables are linearly related. It is used to identify relationships between variables, make predictions, and develop causal models. Correlation coefficients range from -1 to 1, with 0 indicating no linear relationship, 1 indicating a perfect positive linear relationship, and -1 indicating a perfect negative linear relationship.\n",
      "----------------------------------------------------\\n\\n\n",
      "Question:  2. How does a correlation coefficient range from -1 to 1 indicate the relationship between two variables?\n",
      "Answer:  The correlation coefficient ranges from -1 to 1, with a value of 0 indicating no linear relationship between the two variables, a value of 1 indicating a perfect positive linear relationship, and a value of -1 indicating a perfect negative linear relationship. This means that the closer the correlation coefficient is to 1 or -1, the stronger the relationship between the two variables. A positive correlation coefficient indicates a positive relationship, meaning that as one variable increases, the other variable also tends to increase. On the other hand, a negative correlation coefficient indicates a negative relationship, meaning that as one variable increases, the other variable tends to decrease.\n",
      "----------------------------------------------------\\n\\n\n",
      "Question:  3. What are the three main uses of correlation in statistics?\n",
      "Answer:  The three main uses of correlation in statistics are:\n",
      "\n",
      "1. Identifying relationships between variables.\n",
      "2. Making predictions based on the strength of correlation.\n",
      "3. Developing causal models to understand how changes in one variable affect others.\n",
      "----------------------------------------------------\\n\\n\n",
      "Question:  4. How can correlation be used to make predictions in various fields?\n",
      "Answer:  Correlation can be used to make predictions in various fields by identifying strong relationships between two variables. If there is a strong correlation between two variables, it is possible to use the value of one variable to predict the value of the other variable. This predictive power can be applied in fields such as business, finance, medicine, and psychology to forecast outcomes, trends, and behaviors based on the correlation between different factors.\n",
      "----------------------------------------------------\\n\\n\n",
      "Question:  5. How is correlation used in business, finance, medicine, and psychology?\n",
      "Answer:  Correlation is used in various fields like business, finance, medicine, and psychology to identify relationships between different variables. In business, correlation can help in understanding the relationships between sales, advertising spending, and customer satisfaction to make better decisions. In finance, it can be used to build diversified portfolios by identifying relationships between different financial assets like stocks, bonds, and commodities. In medicine, correlation can help in identifying risk factors for diseases and the effectiveness of treatments to improve prevention and treatment. In psychology, correlation can be used to understand relationships between personality traits, cognitive abilities, and mental disorders to develop better assessments and treatments.\n",
      "----------------------------------------------------\\n\\n\n",
      "Question:  6. Provide an example of how a marketing manager could use correlation in decision-making.\n",
      "Answer:  A marketing manager could use correlation to identify the relationship between social media engagement and website traffic. By analyzing the correlation between these two variables, the marketing manager can determine how effective social media engagement is in driving traffic to the website. This information could then be used to allocate resources effectively, such as investing more in social media campaigns if they are positively correlated with increased website traffic.\n",
      "----------------------------------------------------\\n\\n\n",
      "Question:  7. How can a financial analyst use correlation to build a diversified stock portfolio?\n",
      "Answer:  A financial analyst can use correlation to build a diversified stock portfolio by identifying the relationships between the returns of different stocks. By analyzing the correlation between the returns of various stocks, the analyst can select stocks that are not highly correlated with each other. Choosing stocks with low correlation helps in building a diversified portfolio that can potentially reduce overall risk. This way, if one stock performs poorly, it may be offset by another stock that performs well, leading to a more balanced and less risky investment portfolio.\n",
      "----------------------------------------------------\\n\\n\n",
      "Question:  8. What is the importance of correlation in developing causal models?\n",
      "Answer:  Correlation is important in developing causal models because it serves as a starting point for understanding how changes in one variable may cause changes in other variables. By identifying correlations between variables, researchers can begin to explore potential causal relationships. However, it's crucial to note that correlation does not imply causation, but it can provide a foundation for developing more accurate causal models that can help predict outcomes and develop interventions to influence specific variables.\n",
      "----------------------------------------------------\\n\\n\n",
      "Question:  9. How can correlation be used to identify relationships between variables in a complex system?\n",
      "Answer:  Correlation can be used to identify relationships between variables in a complex system by measuring the strength and direction of the linear relationship between two variables. If there is a high positive correlation, it indicates that as one variable increases, the other variable also tends to increase. Conversely, a high negative correlation suggests that as one variable increases, the other variable tends to decrease. By analyzing the correlation coefficients between different variables in a complex system, researchers can gain insights into how these variables interact and influence each other, helping to understand the relationships within the system.\n",
      "----------------------------------------------------\\n\\n\n",
      "Question:  10. How does correlation help in understanding the relationships between different factors in a system?\n",
      "Answer:  Correlation helps in understanding the relationships between different factors in a system by identifying whether there is a relationship between two variables and if so, whether the relationship is positive or negative. This information can provide insights into how changes in one variable may affect another, helping to understand the complex interactions within a system.\n",
      "----------------------------------------------------\\n\\n\n"
     ]
    }
   ],
   "source": [
    "# answer each question and save to file\n",
    "for question in ques_list:\n",
    "    print(\"Question: \", question)\n",
    "    answer = answer_generation_chain.run(question)\n",
    "    print(\"Answer: \", answer)\n",
    "    print(\"----------------------------------------------------\\\\n\\\\n\")\n",
    "    # save answer to file\n",
    "    with open(\"answer.txt\", \"a\") as f:\n",
    "        f.write(\"Question: \" + question + \"\\\\n\")\n",
    "        f.write(\"Answer: \" + answer + \"\\\\n\")\n",
    "        f.write(\"----------------------------------------------------\\\\n\\\\n\")"
   ]
  },
  {
   "cell_type": "code",
   "execution_count": null,
   "metadata": {},
   "outputs": [],
   "source": []
  }
 ],
 "metadata": {
  "kernelspec": {
   "display_name": "interview",
   "language": "python",
   "name": "python3"
  },
  "language_info": {
   "codemirror_mode": {
    "name": "ipython",
    "version": 3
   },
   "file_extension": ".py",
   "mimetype": "text/x-python",
   "name": "python",
   "nbconvert_exporter": "python",
   "pygments_lexer": "ipython3",
   "version": "3.10.14"
  }
 },
 "nbformat": 4,
 "nbformat_minor": 2
}
